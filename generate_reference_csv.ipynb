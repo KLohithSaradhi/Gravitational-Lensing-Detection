{
 "cells": [
  {
   "cell_type": "code",
   "execution_count": 1,
   "id": "d2e6b3b3",
   "metadata": {},
   "outputs": [],
   "source": [
    "import pandas as pd\n",
    "import os\n",
    "import matplotlib.pyplot as plt"
   ]
  },
  {
   "cell_type": "code",
   "execution_count": 2,
   "id": "4889bf7a",
   "metadata": {},
   "outputs": [],
   "source": [
    "gz2_catalog = pd.read_csv(\"../../BigData/gz2_hart16.csv\") # download from https://gz2hart.s3.amazonaws.com/gz2_hart16.csv.gz"
   ]
  },
  {
   "cell_type": "code",
   "execution_count": 3,
   "id": "0ebdfd61",
   "metadata": {},
   "outputs": [
    {
     "data": {
      "text/html": [
       "<div>\n",
       "<style scoped>\n",
       "    .dataframe tbody tr th:only-of-type {\n",
       "        vertical-align: middle;\n",
       "    }\n",
       "\n",
       "    .dataframe tbody tr th {\n",
       "        vertical-align: top;\n",
       "    }\n",
       "\n",
       "    .dataframe thead th {\n",
       "        text-align: right;\n",
       "    }\n",
       "</style>\n",
       "<table border=\"1\" class=\"dataframe\">\n",
       "  <thead>\n",
       "    <tr style=\"text-align: right;\">\n",
       "      <th></th>\n",
       "      <th>dr7objid</th>\n",
       "      <th>ra</th>\n",
       "      <th>dec</th>\n",
       "      <th>total_classifications</th>\n",
       "      <th>total_votes</th>\n",
       "      <th>t01_smooth_or_features_a01_smooth_count</th>\n",
       "      <th>t01_smooth_or_features_a01_smooth_weight</th>\n",
       "      <th>t01_smooth_or_features_a01_smooth_fraction</th>\n",
       "      <th>t01_smooth_or_features_a01_smooth_weighted_fraction</th>\n",
       "      <th>t01_smooth_or_features_a01_smooth_debiased</th>\n",
       "      <th>...</th>\n",
       "      <th>t11_arms_number_a36_more_than_4_fraction</th>\n",
       "      <th>t11_arms_number_a36_more_than_4_weighted_fraction</th>\n",
       "      <th>t11_arms_number_a36_more_than_4_debiased</th>\n",
       "      <th>t11_arms_number_a36_more_than_4_flag</th>\n",
       "      <th>t11_arms_number_a37_cant_tell_count</th>\n",
       "      <th>t11_arms_number_a37_cant_tell_weight</th>\n",
       "      <th>t11_arms_number_a37_cant_tell_fraction</th>\n",
       "      <th>t11_arms_number_a37_cant_tell_weighted_fraction</th>\n",
       "      <th>t11_arms_number_a37_cant_tell_debiased</th>\n",
       "      <th>t11_arms_number_a37_cant_tell_flag</th>\n",
       "    </tr>\n",
       "  </thead>\n",
       "  <tbody>\n",
       "    <tr>\n",
       "      <th>count</th>\n",
       "      <td>2.396950e+05</td>\n",
       "      <td>239695.000000</td>\n",
       "      <td>239695.000000</td>\n",
       "      <td>239695.000000</td>\n",
       "      <td>239695.000000</td>\n",
       "      <td>239695.000000</td>\n",
       "      <td>239695.000000</td>\n",
       "      <td>239695.000000</td>\n",
       "      <td>239695.000000</td>\n",
       "      <td>239695.000000</td>\n",
       "      <td>...</td>\n",
       "      <td>239695.000000</td>\n",
       "      <td>239695.000000</td>\n",
       "      <td>239695.000000</td>\n",
       "      <td>239695.000000</td>\n",
       "      <td>239695.000000</td>\n",
       "      <td>239695.000000</td>\n",
       "      <td>239695.000000</td>\n",
       "      <td>239695.00000</td>\n",
       "      <td>239695.000000</td>\n",
       "      <td>239695.000000</td>\n",
       "    </tr>\n",
       "    <tr>\n",
       "      <th>mean</th>\n",
       "      <td>5.878182e+17</td>\n",
       "      <td>185.348053</td>\n",
       "      <td>26.077803</td>\n",
       "      <td>42.569745</td>\n",
       "      <td>179.024565</td>\n",
       "      <td>27.609679</td>\n",
       "      <td>27.483195</td>\n",
       "      <td>0.639344</td>\n",
       "      <td>0.645559</td>\n",
       "      <td>0.397942</td>\n",
       "      <td>...</td>\n",
       "      <td>0.017008</td>\n",
       "      <td>0.016616</td>\n",
       "      <td>0.025175</td>\n",
       "      <td>0.009954</td>\n",
       "      <td>1.750203</td>\n",
       "      <td>1.747810</td>\n",
       "      <td>0.263493</td>\n",
       "      <td>0.26239</td>\n",
       "      <td>0.250457</td>\n",
       "      <td>0.140570</td>\n",
       "    </tr>\n",
       "    <tr>\n",
       "      <th>std</th>\n",
       "      <td>1.827461e+14</td>\n",
       "      <td>47.905084</td>\n",
       "      <td>18.209517</td>\n",
       "      <td>5.856933</td>\n",
       "      <td>60.729097</td>\n",
       "      <td>13.261534</td>\n",
       "      <td>13.243674</td>\n",
       "      <td>0.284853</td>\n",
       "      <td>0.288195</td>\n",
       "      <td>0.346484</td>\n",
       "      <td>...</td>\n",
       "      <td>0.098695</td>\n",
       "      <td>0.096988</td>\n",
       "      <td>0.121978</td>\n",
       "      <td>0.099274</td>\n",
       "      <td>3.266551</td>\n",
       "      <td>3.264901</td>\n",
       "      <td>0.364091</td>\n",
       "      <td>0.36351</td>\n",
       "      <td>0.356535</td>\n",
       "      <td>0.347578</td>\n",
       "    </tr>\n",
       "    <tr>\n",
       "      <th>min</th>\n",
       "      <td>5.877230e+17</td>\n",
       "      <td>0.006464</td>\n",
       "      <td>-3.743851</td>\n",
       "      <td>16.000000</td>\n",
       "      <td>30.000000</td>\n",
       "      <td>0.000000</td>\n",
       "      <td>0.000000</td>\n",
       "      <td>0.000000</td>\n",
       "      <td>0.000000</td>\n",
       "      <td>0.000000</td>\n",
       "      <td>...</td>\n",
       "      <td>0.000000</td>\n",
       "      <td>0.000000</td>\n",
       "      <td>0.000000</td>\n",
       "      <td>0.000000</td>\n",
       "      <td>0.000000</td>\n",
       "      <td>0.000000</td>\n",
       "      <td>0.000000</td>\n",
       "      <td>0.00000</td>\n",
       "      <td>0.000000</td>\n",
       "      <td>0.000000</td>\n",
       "    </tr>\n",
       "    <tr>\n",
       "      <th>25%</th>\n",
       "      <td>5.877327e+17</td>\n",
       "      <td>154.106384</td>\n",
       "      <td>10.665661</td>\n",
       "      <td>39.000000</td>\n",
       "      <td>140.000000</td>\n",
       "      <td>18.000000</td>\n",
       "      <td>18.000000</td>\n",
       "      <td>0.455000</td>\n",
       "      <td>0.459000</td>\n",
       "      <td>0.040000</td>\n",
       "      <td>...</td>\n",
       "      <td>0.000000</td>\n",
       "      <td>0.000000</td>\n",
       "      <td>0.000000</td>\n",
       "      <td>0.000000</td>\n",
       "      <td>0.000000</td>\n",
       "      <td>0.000000</td>\n",
       "      <td>0.000000</td>\n",
       "      <td>0.00000</td>\n",
       "      <td>0.000000</td>\n",
       "      <td>0.000000</td>\n",
       "    </tr>\n",
       "    <tr>\n",
       "      <th>50%</th>\n",
       "      <td>5.877393e+17</td>\n",
       "      <td>185.964218</td>\n",
       "      <td>24.761133</td>\n",
       "      <td>43.000000</td>\n",
       "      <td>156.000000</td>\n",
       "      <td>32.000000</td>\n",
       "      <td>32.000000</td>\n",
       "      <td>0.760000</td>\n",
       "      <td>0.768000</td>\n",
       "      <td>0.326000</td>\n",
       "      <td>...</td>\n",
       "      <td>0.000000</td>\n",
       "      <td>0.000000</td>\n",
       "      <td>0.000000</td>\n",
       "      <td>0.000000</td>\n",
       "      <td>0.000000</td>\n",
       "      <td>0.000000</td>\n",
       "      <td>0.000000</td>\n",
       "      <td>0.00000</td>\n",
       "      <td>0.000000</td>\n",
       "      <td>0.000000</td>\n",
       "    </tr>\n",
       "    <tr>\n",
       "      <th>75%</th>\n",
       "      <td>5.877429e+17</td>\n",
       "      <td>219.843925</td>\n",
       "      <td>39.732906</td>\n",
       "      <td>46.000000</td>\n",
       "      <td>196.000000</td>\n",
       "      <td>38.000000</td>\n",
       "      <td>38.000000</td>\n",
       "      <td>0.863000</td>\n",
       "      <td>0.871000</td>\n",
       "      <td>0.776000</td>\n",
       "      <td>...</td>\n",
       "      <td>0.000000</td>\n",
       "      <td>0.000000</td>\n",
       "      <td>0.000000</td>\n",
       "      <td>0.000000</td>\n",
       "      <td>2.000000</td>\n",
       "      <td>2.000000</td>\n",
       "      <td>0.500000</td>\n",
       "      <td>0.50000</td>\n",
       "      <td>0.434294</td>\n",
       "      <td>0.000000</td>\n",
       "    </tr>\n",
       "    <tr>\n",
       "      <th>max</th>\n",
       "      <td>5.888489e+17</td>\n",
       "      <td>359.988831</td>\n",
       "      <td>70.133217</td>\n",
       "      <td>79.000000</td>\n",
       "      <td>604.000000</td>\n",
       "      <td>68.000000</td>\n",
       "      <td>66.280998</td>\n",
       "      <td>1.000000</td>\n",
       "      <td>1.000000</td>\n",
       "      <td>1.000000</td>\n",
       "      <td>...</td>\n",
       "      <td>1.000000</td>\n",
       "      <td>1.000000</td>\n",
       "      <td>1.000000</td>\n",
       "      <td>1.000000</td>\n",
       "      <td>33.000000</td>\n",
       "      <td>33.000000</td>\n",
       "      <td>1.000000</td>\n",
       "      <td>1.00000</td>\n",
       "      <td>1.000000</td>\n",
       "      <td>1.000000</td>\n",
       "    </tr>\n",
       "  </tbody>\n",
       "</table>\n",
       "<p>8 rows × 227 columns</p>\n",
       "</div>"
      ],
      "text/plain": [
       "           dr7objid             ra            dec  total_classifications  \\\n",
       "count  2.396950e+05  239695.000000  239695.000000          239695.000000   \n",
       "mean   5.878182e+17     185.348053      26.077803              42.569745   \n",
       "std    1.827461e+14      47.905084      18.209517               5.856933   \n",
       "min    5.877230e+17       0.006464      -3.743851              16.000000   \n",
       "25%    5.877327e+17     154.106384      10.665661              39.000000   \n",
       "50%    5.877393e+17     185.964218      24.761133              43.000000   \n",
       "75%    5.877429e+17     219.843925      39.732906              46.000000   \n",
       "max    5.888489e+17     359.988831      70.133217              79.000000   \n",
       "\n",
       "         total_votes  t01_smooth_or_features_a01_smooth_count  \\\n",
       "count  239695.000000                            239695.000000   \n",
       "mean      179.024565                                27.609679   \n",
       "std        60.729097                                13.261534   \n",
       "min        30.000000                                 0.000000   \n",
       "25%       140.000000                                18.000000   \n",
       "50%       156.000000                                32.000000   \n",
       "75%       196.000000                                38.000000   \n",
       "max       604.000000                                68.000000   \n",
       "\n",
       "       t01_smooth_or_features_a01_smooth_weight  \\\n",
       "count                             239695.000000   \n",
       "mean                                  27.483195   \n",
       "std                                   13.243674   \n",
       "min                                    0.000000   \n",
       "25%                                   18.000000   \n",
       "50%                                   32.000000   \n",
       "75%                                   38.000000   \n",
       "max                                   66.280998   \n",
       "\n",
       "       t01_smooth_or_features_a01_smooth_fraction  \\\n",
       "count                               239695.000000   \n",
       "mean                                     0.639344   \n",
       "std                                      0.284853   \n",
       "min                                      0.000000   \n",
       "25%                                      0.455000   \n",
       "50%                                      0.760000   \n",
       "75%                                      0.863000   \n",
       "max                                      1.000000   \n",
       "\n",
       "       t01_smooth_or_features_a01_smooth_weighted_fraction  \\\n",
       "count                                      239695.000000     \n",
       "mean                                            0.645559     \n",
       "std                                             0.288195     \n",
       "min                                             0.000000     \n",
       "25%                                             0.459000     \n",
       "50%                                             0.768000     \n",
       "75%                                             0.871000     \n",
       "max                                             1.000000     \n",
       "\n",
       "       t01_smooth_or_features_a01_smooth_debiased  ...  \\\n",
       "count                               239695.000000  ...   \n",
       "mean                                     0.397942  ...   \n",
       "std                                      0.346484  ...   \n",
       "min                                      0.000000  ...   \n",
       "25%                                      0.040000  ...   \n",
       "50%                                      0.326000  ...   \n",
       "75%                                      0.776000  ...   \n",
       "max                                      1.000000  ...   \n",
       "\n",
       "       t11_arms_number_a36_more_than_4_fraction  \\\n",
       "count                             239695.000000   \n",
       "mean                                   0.017008   \n",
       "std                                    0.098695   \n",
       "min                                    0.000000   \n",
       "25%                                    0.000000   \n",
       "50%                                    0.000000   \n",
       "75%                                    0.000000   \n",
       "max                                    1.000000   \n",
       "\n",
       "       t11_arms_number_a36_more_than_4_weighted_fraction  \\\n",
       "count                                      239695.000000   \n",
       "mean                                            0.016616   \n",
       "std                                             0.096988   \n",
       "min                                             0.000000   \n",
       "25%                                             0.000000   \n",
       "50%                                             0.000000   \n",
       "75%                                             0.000000   \n",
       "max                                             1.000000   \n",
       "\n",
       "       t11_arms_number_a36_more_than_4_debiased  \\\n",
       "count                             239695.000000   \n",
       "mean                                   0.025175   \n",
       "std                                    0.121978   \n",
       "min                                    0.000000   \n",
       "25%                                    0.000000   \n",
       "50%                                    0.000000   \n",
       "75%                                    0.000000   \n",
       "max                                    1.000000   \n",
       "\n",
       "       t11_arms_number_a36_more_than_4_flag  \\\n",
       "count                         239695.000000   \n",
       "mean                               0.009954   \n",
       "std                                0.099274   \n",
       "min                                0.000000   \n",
       "25%                                0.000000   \n",
       "50%                                0.000000   \n",
       "75%                                0.000000   \n",
       "max                                1.000000   \n",
       "\n",
       "       t11_arms_number_a37_cant_tell_count  \\\n",
       "count                        239695.000000   \n",
       "mean                              1.750203   \n",
       "std                               3.266551   \n",
       "min                               0.000000   \n",
       "25%                               0.000000   \n",
       "50%                               0.000000   \n",
       "75%                               2.000000   \n",
       "max                              33.000000   \n",
       "\n",
       "       t11_arms_number_a37_cant_tell_weight  \\\n",
       "count                         239695.000000   \n",
       "mean                               1.747810   \n",
       "std                                3.264901   \n",
       "min                                0.000000   \n",
       "25%                                0.000000   \n",
       "50%                                0.000000   \n",
       "75%                                2.000000   \n",
       "max                               33.000000   \n",
       "\n",
       "       t11_arms_number_a37_cant_tell_fraction  \\\n",
       "count                           239695.000000   \n",
       "mean                                 0.263493   \n",
       "std                                  0.364091   \n",
       "min                                  0.000000   \n",
       "25%                                  0.000000   \n",
       "50%                                  0.000000   \n",
       "75%                                  0.500000   \n",
       "max                                  1.000000   \n",
       "\n",
       "       t11_arms_number_a37_cant_tell_weighted_fraction  \\\n",
       "count                                     239695.00000   \n",
       "mean                                           0.26239   \n",
       "std                                            0.36351   \n",
       "min                                            0.00000   \n",
       "25%                                            0.00000   \n",
       "50%                                            0.00000   \n",
       "75%                                            0.50000   \n",
       "max                                            1.00000   \n",
       "\n",
       "       t11_arms_number_a37_cant_tell_debiased  \\\n",
       "count                           239695.000000   \n",
       "mean                                 0.250457   \n",
       "std                                  0.356535   \n",
       "min                                  0.000000   \n",
       "25%                                  0.000000   \n",
       "50%                                  0.000000   \n",
       "75%                                  0.434294   \n",
       "max                                  1.000000   \n",
       "\n",
       "       t11_arms_number_a37_cant_tell_flag  \n",
       "count                       239695.000000  \n",
       "mean                             0.140570  \n",
       "std                              0.347578  \n",
       "min                              0.000000  \n",
       "25%                              0.000000  \n",
       "50%                              0.000000  \n",
       "75%                              0.000000  \n",
       "max                              1.000000  \n",
       "\n",
       "[8 rows x 227 columns]"
      ]
     },
     "execution_count": 3,
     "metadata": {},
     "output_type": "execute_result"
    }
   ],
   "source": [
    "gz2_catalog.describe()"
   ]
  },
  {
   "cell_type": "code",
   "execution_count": 4,
   "id": "85c9cb08",
   "metadata": {},
   "outputs": [],
   "source": [
    "classification_columns = [i for i in list(gz2_catalog.columns) if i[0]==\"t\"]\n",
    "mapping_columns = [i for i in list(gz2_catalog.columns) if i[0]!=\"t\"]"
   ]
  },
  {
   "cell_type": "code",
   "execution_count": 5,
   "id": "10b27d9d",
   "metadata": {},
   "outputs": [
    {
     "data": {
      "text/plain": [
       "['dr7objid', 'ra', 'dec', 'rastring', 'decstring', 'sample', 'gz2_class']"
      ]
     },
     "execution_count": 5,
     "metadata": {},
     "output_type": "execute_result"
    }
   ],
   "source": [
    "mapping_columns"
   ]
  },
  {
   "cell_type": "code",
   "execution_count": 6,
   "id": "c52cbfb3",
   "metadata": {},
   "outputs": [
    {
     "data": {
      "text/plain": [
       "['total_classifications',\n",
       " 'total_votes',\n",
       " 't01_smooth_or_features_a01_smooth_count',\n",
       " 't01_smooth_or_features_a01_smooth_weight',\n",
       " 't01_smooth_or_features_a01_smooth_fraction',\n",
       " 't01_smooth_or_features_a01_smooth_weighted_fraction',\n",
       " 't01_smooth_or_features_a01_smooth_debiased',\n",
       " 't01_smooth_or_features_a01_smooth_flag',\n",
       " 't01_smooth_or_features_a02_features_or_disk_count',\n",
       " 't01_smooth_or_features_a02_features_or_disk_weight',\n",
       " 't01_smooth_or_features_a02_features_or_disk_fraction',\n",
       " 't01_smooth_or_features_a02_features_or_disk_weighted_fraction',\n",
       " 't01_smooth_or_features_a02_features_or_disk_debiased',\n",
       " 't01_smooth_or_features_a02_features_or_disk_flag',\n",
       " 't01_smooth_or_features_a03_star_or_artifact_count',\n",
       " 't01_smooth_or_features_a03_star_or_artifact_weight',\n",
       " 't01_smooth_or_features_a03_star_or_artifact_fraction',\n",
       " 't01_smooth_or_features_a03_star_or_artifact_weighted_fraction',\n",
       " 't01_smooth_or_features_a03_star_or_artifact_debiased',\n",
       " 't01_smooth_or_features_a03_star_or_artifact_flag',\n",
       " 't02_edgeon_a04_yes_count',\n",
       " 't02_edgeon_a04_yes_weight',\n",
       " 't02_edgeon_a04_yes_fraction',\n",
       " 't02_edgeon_a04_yes_weighted_fraction',\n",
       " 't02_edgeon_a04_yes_debiased',\n",
       " 't02_edgeon_a04_yes_flag',\n",
       " 't02_edgeon_a05_no_count',\n",
       " 't02_edgeon_a05_no_weight',\n",
       " 't02_edgeon_a05_no_fraction',\n",
       " 't02_edgeon_a05_no_weighted_fraction',\n",
       " 't02_edgeon_a05_no_debiased',\n",
       " 't02_edgeon_a05_no_flag',\n",
       " 't03_bar_a06_bar_count',\n",
       " 't03_bar_a06_bar_weight',\n",
       " 't03_bar_a06_bar_fraction',\n",
       " 't03_bar_a06_bar_weighted_fraction',\n",
       " 't03_bar_a06_bar_debiased',\n",
       " 't03_bar_a06_bar_flag',\n",
       " 't03_bar_a07_no_bar_count',\n",
       " 't03_bar_a07_no_bar_weight',\n",
       " 't03_bar_a07_no_bar_fraction',\n",
       " 't03_bar_a07_no_bar_weighted_fraction',\n",
       " 't03_bar_a07_no_bar_debiased',\n",
       " 't03_bar_a07_no_bar_flag',\n",
       " 't04_spiral_a08_spiral_count',\n",
       " 't04_spiral_a08_spiral_weight',\n",
       " 't04_spiral_a08_spiral_fraction',\n",
       " 't04_spiral_a08_spiral_weighted_fraction',\n",
       " 't04_spiral_a08_spiral_debiased',\n",
       " 't04_spiral_a08_spiral_flag',\n",
       " 't04_spiral_a09_no_spiral_count',\n",
       " 't04_spiral_a09_no_spiral_weight',\n",
       " 't04_spiral_a09_no_spiral_fraction',\n",
       " 't04_spiral_a09_no_spiral_weighted_fraction',\n",
       " 't04_spiral_a09_no_spiral_debiased',\n",
       " 't04_spiral_a09_no_spiral_flag',\n",
       " 't05_bulge_prominence_a10_no_bulge_count',\n",
       " 't05_bulge_prominence_a10_no_bulge_weight',\n",
       " 't05_bulge_prominence_a10_no_bulge_fraction',\n",
       " 't05_bulge_prominence_a10_no_bulge_weighted_fraction',\n",
       " 't05_bulge_prominence_a10_no_bulge_debiased',\n",
       " 't05_bulge_prominence_a10_no_bulge_flag',\n",
       " 't05_bulge_prominence_a11_just_noticeable_count',\n",
       " 't05_bulge_prominence_a11_just_noticeable_weight',\n",
       " 't05_bulge_prominence_a11_just_noticeable_fraction',\n",
       " 't05_bulge_prominence_a11_just_noticeable_weighted_fraction',\n",
       " 't05_bulge_prominence_a11_just_noticeable_debiased',\n",
       " 't05_bulge_prominence_a11_just_noticeable_flag',\n",
       " 't05_bulge_prominence_a12_obvious_count',\n",
       " 't05_bulge_prominence_a12_obvious_weight',\n",
       " 't05_bulge_prominence_a12_obvious_fraction',\n",
       " 't05_bulge_prominence_a12_obvious_weighted_fraction',\n",
       " 't05_bulge_prominence_a12_obvious_debiased',\n",
       " 't05_bulge_prominence_a12_obvious_flag',\n",
       " 't05_bulge_prominence_a13_dominant_count',\n",
       " 't05_bulge_prominence_a13_dominant_weight',\n",
       " 't05_bulge_prominence_a13_dominant_fraction',\n",
       " 't05_bulge_prominence_a13_dominant_weighted_fraction',\n",
       " 't05_bulge_prominence_a13_dominant_debiased',\n",
       " 't05_bulge_prominence_a13_dominant_flag',\n",
       " 't06_odd_a14_yes_count',\n",
       " 't06_odd_a14_yes_weight',\n",
       " 't06_odd_a14_yes_fraction',\n",
       " 't06_odd_a14_yes_weighted_fraction',\n",
       " 't06_odd_a14_yes_debiased',\n",
       " 't06_odd_a14_yes_flag',\n",
       " 't06_odd_a15_no_count',\n",
       " 't06_odd_a15_no_weight',\n",
       " 't06_odd_a15_no_fraction',\n",
       " 't06_odd_a15_no_weighted_fraction',\n",
       " 't06_odd_a15_no_debiased',\n",
       " 't06_odd_a15_no_flag',\n",
       " 't07_rounded_a16_completely_round_count',\n",
       " 't07_rounded_a16_completely_round_weight',\n",
       " 't07_rounded_a16_completely_round_fraction',\n",
       " 't07_rounded_a16_completely_round_weighted_fraction',\n",
       " 't07_rounded_a16_completely_round_debiased',\n",
       " 't07_rounded_a16_completely_round_flag',\n",
       " 't07_rounded_a17_in_between_count',\n",
       " 't07_rounded_a17_in_between_weight',\n",
       " 't07_rounded_a17_in_between_fraction',\n",
       " 't07_rounded_a17_in_between_weighted_fraction',\n",
       " 't07_rounded_a17_in_between_debiased',\n",
       " 't07_rounded_a17_in_between_flag',\n",
       " 't07_rounded_a18_cigar_shaped_count',\n",
       " 't07_rounded_a18_cigar_shaped_weight',\n",
       " 't07_rounded_a18_cigar_shaped_fraction',\n",
       " 't07_rounded_a18_cigar_shaped_weighted_fraction',\n",
       " 't07_rounded_a18_cigar_shaped_debiased',\n",
       " 't07_rounded_a18_cigar_shaped_flag',\n",
       " 't08_odd_feature_a19_ring_count',\n",
       " 't08_odd_feature_a19_ring_weight',\n",
       " 't08_odd_feature_a19_ring_fraction',\n",
       " 't08_odd_feature_a19_ring_weighted_fraction',\n",
       " 't08_odd_feature_a19_ring_debiased',\n",
       " 't08_odd_feature_a19_ring_flag',\n",
       " 't08_odd_feature_a20_lens_or_arc_count',\n",
       " 't08_odd_feature_a20_lens_or_arc_weight',\n",
       " 't08_odd_feature_a20_lens_or_arc_fraction',\n",
       " 't08_odd_feature_a20_lens_or_arc_weighted_fraction',\n",
       " 't08_odd_feature_a20_lens_or_arc_debiased',\n",
       " 't08_odd_feature_a20_lens_or_arc_flag',\n",
       " 't08_odd_feature_a21_disturbed_count',\n",
       " 't08_odd_feature_a21_disturbed_weight',\n",
       " 't08_odd_feature_a21_disturbed_fraction',\n",
       " 't08_odd_feature_a21_disturbed_weighted_fraction',\n",
       " 't08_odd_feature_a21_disturbed_debiased',\n",
       " 't08_odd_feature_a21_disturbed_flag',\n",
       " 't08_odd_feature_a22_irregular_count',\n",
       " 't08_odd_feature_a22_irregular_weight',\n",
       " 't08_odd_feature_a22_irregular_fraction',\n",
       " 't08_odd_feature_a22_irregular_weighted_fraction',\n",
       " 't08_odd_feature_a22_irregular_debiased',\n",
       " 't08_odd_feature_a22_irregular_flag',\n",
       " 't08_odd_feature_a23_other_count',\n",
       " 't08_odd_feature_a23_other_weight',\n",
       " 't08_odd_feature_a23_other_fraction',\n",
       " 't08_odd_feature_a23_other_weighted_fraction',\n",
       " 't08_odd_feature_a23_other_debiased',\n",
       " 't08_odd_feature_a23_other_flag',\n",
       " 't08_odd_feature_a24_merger_count',\n",
       " 't08_odd_feature_a24_merger_weight',\n",
       " 't08_odd_feature_a24_merger_fraction',\n",
       " 't08_odd_feature_a24_merger_weighted_fraction',\n",
       " 't08_odd_feature_a24_merger_debiased',\n",
       " 't08_odd_feature_a24_merger_flag',\n",
       " 't08_odd_feature_a38_dust_lane_count',\n",
       " 't08_odd_feature_a38_dust_lane_weight',\n",
       " 't08_odd_feature_a38_dust_lane_fraction',\n",
       " 't08_odd_feature_a38_dust_lane_weighted_fraction',\n",
       " 't08_odd_feature_a38_dust_lane_debiased',\n",
       " 't08_odd_feature_a38_dust_lane_flag',\n",
       " 't09_bulge_shape_a25_rounded_count',\n",
       " 't09_bulge_shape_a25_rounded_weight',\n",
       " 't09_bulge_shape_a25_rounded_fraction',\n",
       " 't09_bulge_shape_a25_rounded_weighted_fraction',\n",
       " 't09_bulge_shape_a25_rounded_debiased',\n",
       " 't09_bulge_shape_a25_rounded_flag',\n",
       " 't09_bulge_shape_a26_boxy_count',\n",
       " 't09_bulge_shape_a26_boxy_weight',\n",
       " 't09_bulge_shape_a26_boxy_fraction',\n",
       " 't09_bulge_shape_a26_boxy_weighted_fraction',\n",
       " 't09_bulge_shape_a26_boxy_debiased',\n",
       " 't09_bulge_shape_a26_boxy_flag',\n",
       " 't09_bulge_shape_a27_no_bulge_count',\n",
       " 't09_bulge_shape_a27_no_bulge_weight',\n",
       " 't09_bulge_shape_a27_no_bulge_fraction',\n",
       " 't09_bulge_shape_a27_no_bulge_weighted_fraction',\n",
       " 't09_bulge_shape_a27_no_bulge_debiased',\n",
       " 't09_bulge_shape_a27_no_bulge_flag',\n",
       " 't10_arms_winding_a28_tight_count',\n",
       " 't10_arms_winding_a28_tight_weight',\n",
       " 't10_arms_winding_a28_tight_fraction',\n",
       " 't10_arms_winding_a28_tight_weighted_fraction',\n",
       " 't10_arms_winding_a28_tight_debiased',\n",
       " 't10_arms_winding_a28_tight_flag',\n",
       " 't10_arms_winding_a29_medium_count',\n",
       " 't10_arms_winding_a29_medium_weight',\n",
       " 't10_arms_winding_a29_medium_fraction',\n",
       " 't10_arms_winding_a29_medium_weighted_fraction',\n",
       " 't10_arms_winding_a29_medium_debiased',\n",
       " 't10_arms_winding_a29_medium_flag',\n",
       " 't10_arms_winding_a30_loose_count',\n",
       " 't10_arms_winding_a30_loose_weight',\n",
       " 't10_arms_winding_a30_loose_fraction',\n",
       " 't10_arms_winding_a30_loose_weighted_fraction',\n",
       " 't10_arms_winding_a30_loose_debiased',\n",
       " 't10_arms_winding_a30_loose_flag',\n",
       " 't11_arms_number_a31_1_count',\n",
       " 't11_arms_number_a31_1_weight',\n",
       " 't11_arms_number_a31_1_fraction',\n",
       " 't11_arms_number_a31_1_weighted_fraction',\n",
       " 't11_arms_number_a31_1_debiased',\n",
       " 't11_arms_number_a31_1_flag',\n",
       " 't11_arms_number_a32_2_count',\n",
       " 't11_arms_number_a32_2_weight',\n",
       " 't11_arms_number_a32_2_fraction',\n",
       " 't11_arms_number_a32_2_weighted_fraction',\n",
       " 't11_arms_number_a32_2_debiased',\n",
       " 't11_arms_number_a32_2_flag',\n",
       " 't11_arms_number_a33_3_count',\n",
       " 't11_arms_number_a33_3_weight',\n",
       " 't11_arms_number_a33_3_fraction',\n",
       " 't11_arms_number_a33_3_weighted_fraction',\n",
       " 't11_arms_number_a33_3_debiased',\n",
       " 't11_arms_number_a33_3_flag',\n",
       " 't11_arms_number_a34_4_count',\n",
       " 't11_arms_number_a34_4_weight',\n",
       " 't11_arms_number_a34_4_fraction',\n",
       " 't11_arms_number_a34_4_weighted_fraction',\n",
       " 't11_arms_number_a34_4_debiased',\n",
       " 't11_arms_number_a34_4_flag',\n",
       " 't11_arms_number_a36_more_than_4_count',\n",
       " 't11_arms_number_a36_more_than_4_weight',\n",
       " 't11_arms_number_a36_more_than_4_fraction',\n",
       " 't11_arms_number_a36_more_than_4_weighted_fraction',\n",
       " 't11_arms_number_a36_more_than_4_debiased',\n",
       " 't11_arms_number_a36_more_than_4_flag',\n",
       " 't11_arms_number_a37_cant_tell_count',\n",
       " 't11_arms_number_a37_cant_tell_weight',\n",
       " 't11_arms_number_a37_cant_tell_fraction',\n",
       " 't11_arms_number_a37_cant_tell_weighted_fraction',\n",
       " 't11_arms_number_a37_cant_tell_debiased',\n",
       " 't11_arms_number_a37_cant_tell_flag']"
      ]
     },
     "execution_count": 6,
     "metadata": {},
     "output_type": "execute_result"
    }
   ],
   "source": [
    "classification_columns"
   ]
  },
  {
   "cell_type": "markdown",
   "id": "ab06766c",
   "metadata": {},
   "source": [
    "## Lenses"
   ]
  },
  {
   "cell_type": "code",
   "execution_count": 7,
   "id": "76fceded",
   "metadata": {},
   "outputs": [
    {
     "data": {
      "image/png": "[encoded data removed]",
      "text/plain": [
       "<Figure size 640x480 with 1 Axes>"
      ]
     },
     "metadata": {},
     "output_type": "display_data"
    }
   ],
   "source": [
    "_ = plt.hist(gz2_catalog[\"t08_odd_feature_a20_lens_or_arc_weighted_fraction\"], bins=10)"
   ]
  },
  {
   "cell_type": "code",
   "execution_count": 8,
   "id": "e77a838a",
   "metadata": {},
   "outputs": [],
   "source": [
    "lens_csv = gz2_catalog[gz2_catalog[\"t08_odd_feature_a20_lens_or_arc_weighted_fraction\"] >=0.8]\n",
    "lens_csv = lens_csv.drop(classification_columns, axis = 1)"
   ]
  },
  {
   "cell_type": "code",
   "execution_count": 9,
   "id": "3314903d",
   "metadata": {},
   "outputs": [
    {
     "name": "stdout",
     "output_type": "stream",
     "text": [
      "<class 'pandas.core.frame.DataFrame'>\n",
      "Index: 4356 entries, 16 to 239628\n",
      "Data columns (total 7 columns):\n",
      " #   Column     Non-Null Count  Dtype  \n",
      "---  ------     --------------  -----  \n",
      " 0   dr7objid   4356 non-null   int64  \n",
      " 1   ra         4356 non-null   float64\n",
      " 2   dec        4356 non-null   float64\n",
      " 3   rastring   4356 non-null   object \n",
      " 4   decstring  4356 non-null   object \n",
      " 5   sample     4356 non-null   object \n",
      " 6   gz2_class  4356 non-null   object \n",
      "dtypes: float64(2), int64(1), object(4)\n",
      "memory usage: 272.2+ KB\n"
     ]
    }
   ],
   "source": [
    "lens_csv.info()"
   ]
  },
  {
   "cell_type": "code",
   "execution_count": 10,
   "id": "63d6f944",
   "metadata": {},
   "outputs": [],
   "source": [
    "lens_csv.to_csv(\"./reference_csv/lens.csv\")"
   ]
  },
  {
   "cell_type": "markdown",
   "id": "d0af7f2e",
   "metadata": {},
   "source": [
    "## Spiral Galaxies"
   ]
  },
  {
   "cell_type": "code",
   "execution_count": 11,
   "id": "d4944267",
   "metadata": {},
   "outputs": [
    {
     "data": {
      "image/png": "[encoded data removed]",
      "text/plain": [
       "<Figure size 640x480 with 1 Axes>"
      ]
     },
     "metadata": {},
     "output_type": "display_data"
    }
   ],
   "source": [
    "_ = plt.hist(gz2_catalog[\"t04_spiral_a08_spiral_weighted_fraction\"], bins=10)"
   ]
  },
  {
   "cell_type": "code",
   "execution_count": 12,
   "id": "b4cd41a4",
   "metadata": {},
   "outputs": [],
   "source": [
    "spiral_csv = gz2_catalog[gz2_catalog[\"t04_spiral_a08_spiral_weighted_fraction\"] >=0.8]\n",
    "spiral_csv = spiral_csv.drop(classification_columns, axis = 1)"
   ]
  },
  {
   "cell_type": "code",
   "execution_count": 13,
   "id": "db25227d",
   "metadata": {},
   "outputs": [
    {
     "name": "stdout",
     "output_type": "stream",
     "text": [
      "<class 'pandas.core.frame.DataFrame'>\n",
      "Index: 38969 entries, 0 to 239652\n",
      "Data columns (total 7 columns):\n",
      " #   Column     Non-Null Count  Dtype  \n",
      "---  ------     --------------  -----  \n",
      " 0   dr7objid   38969 non-null  int64  \n",
      " 1   ra         38969 non-null  float64\n",
      " 2   dec        38969 non-null  float64\n",
      " 3   rastring   38969 non-null  object \n",
      " 4   decstring  38969 non-null  object \n",
      " 5   sample     38969 non-null  object \n",
      " 6   gz2_class  38969 non-null  object \n",
      "dtypes: float64(2), int64(1), object(4)\n",
      "memory usage: 2.4+ MB\n"
     ]
    }
   ],
   "source": [
    "spiral_csv.info()"
   ]
  },
  {
   "cell_type": "code",
   "execution_count": 14,
   "id": "9dbb8be7",
   "metadata": {},
   "outputs": [],
   "source": [
    "spiral_csv.to_csv(\"./reference_csv/spiral.csv\")"
   ]
  },
  {
   "cell_type": "markdown",
   "id": "b230aadf",
   "metadata": {},
   "source": [
    "## Ring structures"
   ]
  },
  {
   "cell_type": "code",
   "execution_count": 15,
   "id": "cda9dea0",
   "metadata": {},
   "outputs": [
    {
     "data": {
      "image/png": "[encoded data removed]",
      "text/plain": [
       "<Figure size 640x480 with 1 Axes>"
      ]
     },
     "metadata": {},
     "output_type": "display_data"
    }
   ],
   "source": [
    "_ = plt.hist(gz2_catalog[\"t08_odd_feature_a19_ring_weighted_fraction\"], bins=10)"
   ]
  },
  {
   "cell_type": "code",
   "execution_count": 16,
   "id": "c292bc79",
   "metadata": {},
   "outputs": [],
   "source": [
    "ring_csv = gz2_catalog[gz2_catalog[\"t08_odd_feature_a19_ring_weighted_fraction\"] >=0.8]\n",
    "ring_csv = ring_csv.drop(classification_columns, axis = 1)"
   ]
  },
  {
   "cell_type": "code",
   "execution_count": 17,
   "id": "a1606b86",
   "metadata": {},
   "outputs": [
    {
     "name": "stdout",
     "output_type": "stream",
     "text": [
      "<class 'pandas.core.frame.DataFrame'>\n",
      "Index: 12910 entries, 22 to 239685\n",
      "Data columns (total 7 columns):\n",
      " #   Column     Non-Null Count  Dtype  \n",
      "---  ------     --------------  -----  \n",
      " 0   dr7objid   12910 non-null  int64  \n",
      " 1   ra         12910 non-null  float64\n",
      " 2   dec        12910 non-null  float64\n",
      " 3   rastring   12910 non-null  object \n",
      " 4   decstring  12910 non-null  object \n",
      " 5   sample     12910 non-null  object \n",
      " 6   gz2_class  12910 non-null  object \n",
      "dtypes: float64(2), int64(1), object(4)\n",
      "memory usage: 806.9+ KB\n"
     ]
    }
   ],
   "source": [
    "ring_csv.info()"
   ]
  },
  {
   "cell_type": "code",
   "execution_count": 18,
   "id": "ec816b24",
   "metadata": {},
   "outputs": [],
   "source": [
    "ring_csv.to_csv(\"./reference_csv/ring.csv\")"
   ]
  },
  {
   "cell_type": "markdown",
   "id": "46e526b4",
   "metadata": {},
   "source": [
    "## Smooth galaxies"
   ]
  },
  {
   "cell_type": "code",
   "execution_count": 19,
   "id": "ae980c95",
   "metadata": {},
   "outputs": [
    {
     "data": {
      "image/png": "[encoded data removed]",
      "text/plain": [
       "<Figure size 640x480 with 1 Axes>"
      ]
     },
     "metadata": {},
     "output_type": "display_data"
    }
   ],
   "source": [
    "_ = plt.hist(gz2_catalog[\"t01_smooth_or_features_a01_smooth_weighted_fraction\"], bins=10)"
   ]
  },
  {
   "cell_type": "code",
   "execution_count": 20,
   "id": "e6a02216",
   "metadata": {},
   "outputs": [],
   "source": [
    "smooth_csv = gz2_catalog[gz2_catalog[\"t01_smooth_or_features_a01_smooth_weighted_fraction\"] >=0.8]\n",
    "smooth_csv = smooth_csv.drop(classification_columns, axis = 1)"
   ]
  },
  {
   "cell_type": "code",
   "execution_count": 21,
   "id": "7dfb4232",
   "metadata": {},
   "outputs": [
    {
     "name": "stdout",
     "output_type": "stream",
     "text": [
      "<class 'pandas.core.frame.DataFrame'>\n",
      "Index: 107313 entries, 5 to 239690\n",
      "Data columns (total 7 columns):\n",
      " #   Column     Non-Null Count   Dtype  \n",
      "---  ------     --------------   -----  \n",
      " 0   dr7objid   107313 non-null  int64  \n",
      " 1   ra         107313 non-null  float64\n",
      " 2   dec        107313 non-null  float64\n",
      " 3   rastring   107313 non-null  object \n",
      " 4   decstring  107313 non-null  object \n",
      " 5   sample     107313 non-null  object \n",
      " 6   gz2_class  107313 non-null  object \n",
      "dtypes: float64(2), int64(1), object(4)\n",
      "memory usage: 6.5+ MB\n"
     ]
    }
   ],
   "source": [
    "smooth_csv.info()"
   ]
  },
  {
   "cell_type": "code",
   "execution_count": 22,
   "id": "dc5e8f1a",
   "metadata": {},
   "outputs": [],
   "source": [
    "smooth_csv.to_csv(\"./reference_csv/smooth.csv\")"
   ]
  },
  {
   "cell_type": "markdown",
   "id": "87654594",
   "metadata": {},
   "source": [
    "## Companion galaxies"
   ]
  },
  {
   "cell_type": "code",
   "execution_count": null,
   "id": "d5531c33",
   "metadata": {},
   "outputs": [],
   "source": [
    "# Considering \"Merger galaxies\" to be companion galaxies"
   ]
  },
  {
   "cell_type": "code",
   "execution_count": 23,
   "id": "da508fb5",
   "metadata": {},
   "outputs": [
    {
     "data": {
      "image/png": "[encoded data removed]",
      "text/plain": [
       "<Figure size 640x480 with 1 Axes>"
      ]
     },
     "metadata": {},
     "output_type": "display_data"
    }
   ],
   "source": [
    "_ = plt.hist(gz2_catalog[\"t08_odd_feature_a24_merger_weighted_fraction\"], bins=10)"
   ]
  },
  {
   "cell_type": "code",
   "execution_count": 24,
   "id": "e40bfa21",
   "metadata": {},
   "outputs": [],
   "source": [
    "companion_csv = gz2_catalog[gz2_catalog[\"t08_odd_feature_a24_merger_weighted_fraction\"] >=0.8]\n",
    "companion_csv = companion_csv.drop(classification_columns, axis = 1)"
   ]
  },
  {
   "cell_type": "code",
   "execution_count": 25,
   "id": "fd0285d9",
   "metadata": {},
   "outputs": [
    {
     "name": "stdout",
     "output_type": "stream",
     "text": [
      "<class 'pandas.core.frame.DataFrame'>\n",
      "Index: 2447 entries, 36 to 239366\n",
      "Data columns (total 7 columns):\n",
      " #   Column     Non-Null Count  Dtype  \n",
      "---  ------     --------------  -----  \n",
      " 0   dr7objid   2447 non-null   int64  \n",
      " 1   ra         2447 non-null   float64\n",
      " 2   dec        2447 non-null   float64\n",
      " 3   rastring   2447 non-null   object \n",
      " 4   decstring  2447 non-null   object \n",
      " 5   sample     2447 non-null   object \n",
      " 6   gz2_class  2447 non-null   object \n",
      "dtypes: float64(2), int64(1), object(4)\n",
      "memory usage: 152.9+ KB\n"
     ]
    }
   ],
   "source": [
    "companion_csv.info()"
   ]
  },
  {
   "cell_type": "code",
   "execution_count": 26,
   "id": "6d81cb95",
   "metadata": {},
   "outputs": [],
   "source": [
    "companion_csv.to_csv(\"./reference_csv/companion.csv\")"
   ]
  },
  {
   "cell_type": "markdown",
   "id": "087b4485",
   "metadata": {},
   "source": [
    "## Red Spheroids"
   ]
  },
  {
   "cell_type": "code",
   "execution_count": 28,
   "id": "4a3fa4d9",
   "metadata": {},
   "outputs": [],
   "source": [
    "# Have to use redMapper git repo to get catalog. For parameters refer : https://arxiv.org/pdf/2501.15679\n",
    "# For github refer : https://github.com/erykoff/redmapper"
   ]
  },
  {
   "cell_type": "code",
   "execution_count": null,
   "id": "8c813b38",
   "metadata": {},
   "outputs": [],
   "source": []
  }
 ],
 "metadata": {
  "kernelspec": {
   "display_name": "astro",
   "language": "python",
   "name": "python3"
  },
  "language_info": {
   "codemirror_mode": {
    "name": "ipython",
    "version": 3
   },
   "file_extension": ".py",
   "mimetype": "text/x-python",
   "name": "python",
   "nbconvert_exporter": "python",
   "pygments_lexer": "ipython3",
   "version": "3.10.18"
  }
 },
 "nbformat": 4,
 "nbformat_minor": 5
}
