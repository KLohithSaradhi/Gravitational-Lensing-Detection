{
 "cells": [
  {
   "cell_type": "code",
   "execution_count": 3,
   "id": "531be5d4",
   "metadata": {},
   "outputs": [],
   "source": [
    "from astroquery.sdss import SDSS\n",
    "from astropy import coordinates as coords\n",
    "import astropy.units as u\n",
    "import requests\n",
    "import pandas as pd"
   ]
  },
  {
   "cell_type": "code",
   "execution_count": 4,
   "id": "d73f9c02",
   "metadata": {},
   "outputs": [],
   "source": [
    "spirals = pd.read_csv(\"./reference_csv/spiral.csv\")"
   ]
  },
  {
   "cell_type": "code",
   "execution_count": 5,
   "id": "6ac1ff53",
   "metadata": {},
   "outputs": [],
   "source": [
    "ra, dec = spirals.iloc[0][\"ra\"], spirals.iloc[0][\"dec\"]"
   ]
  },
  {
   "cell_type": "code",
   "execution_count": 6,
   "id": "674182bb",
   "metadata": {},
   "outputs": [
    {
     "data": {
      "text/plain": [
       "7117"
      ]
     },
     "execution_count": 6,
     "metadata": {},
     "output_type": "execute_result"
    }
   ],
   "source": [
    "pos = coords.SkyCoord(ra, dec, unit=\"deg\", frame=\"icrs\")\n",
    "imgs = SDSS.get_images(coordinates=pos, radius=20*u.arcsec, band='r', data_release=17)\n",
    "imgs[0].writeto(\"./image_data/spiral/00001.fits\", overwrite=True)\n",
    "\n",
    "# JPEG thumbnail (pretty image)\n",
    "url = f\"https://skyserver.sdss.org/dr17/SkyServerWS/ImgCutout/getjpeg?ra={ra}&dec={dec}&scale=0.4&width=256&height=256\"\n",
    "r = requests.get(url)\n",
    "open(\"spiral.jpg\", \"wb\").write(r.content)\n"
   ]
  },
  {
   "cell_type": "code",
   "execution_count": null,
   "id": "ec7066de",
   "metadata": {},
   "outputs": [],
   "source": []
  }
 ],
 "metadata": {
  "kernelspec": {
   "display_name": "astro",
   "language": "python",
   "name": "python3"
  },
  "language_info": {
   "codemirror_mode": {
    "name": "ipython",
    "version": 3
   },
   "file_extension": ".py",
   "mimetype": "text/x-python",
   "name": "python",
   "nbconvert_exporter": "python",
   "pygments_lexer": "ipython3",
   "version": "3.10.18"
  }
 },
 "nbformat": 4,
 "nbformat_minor": 5
}
