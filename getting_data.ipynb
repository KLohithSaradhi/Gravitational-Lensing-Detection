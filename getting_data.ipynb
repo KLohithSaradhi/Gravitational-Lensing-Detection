{
 "cells": [
  {
   "cell_type": "code",
   "execution_count": null,
   "id": "531be5d4",
   "metadata": {},
   "outputs": [],
   "source": [
    "from astroquery.sdss import SDSS\n",
    "from astropy import coordinates as coords\n",
    "import astropy.units as u\n",
    "import requests\n",
    "import pandas as pd\n",
    "import os\n",
    "import tqdm\n",
    "\n",
    "SDSS.clear_cache()"
   ]
  },
  {
   "cell_type": "code",
   "execution_count": null,
   "id": "d73f9c02",
   "metadata": {},
   "outputs": [],
   "source": [
    "query_bands = [\"u\", \"g\", \"r\", \"i\", \"z\"]"
   ]
  },
  {
   "cell_type": "code",
   "execution_count": null,
   "id": "33c423f8",
   "metadata": {},
   "outputs": [],
   "source": [
    "def download_data(CATALOG, parent_dir = \"/Volumes/Backup Plus/Lohith_Files/Lensing_detection_data/SDSS_data/\", sub_folder=\"spiral\"):\n",
    "    dest_path = os.path.join(parent_dir, sub_folder)\n",
    "    if not os.path.exists(dest_path):\n",
    "        os.makedirs(dest_path)\n",
    "\n",
    "    QUERY_FAIL = []\n",
    "    IMAGE_FAIL = []\n",
    "    for i in tqdm.tqdm(range(0, len(CATALOG))):\n",
    "        ra, dec = CATALOG.iloc[i][\"ra\"], CATALOG.iloc[i][\"dec\"]\n",
    "\n",
    "        pos = coords.SkyCoord(ra, dec, unit=\"deg\", frame=\"icrs\")\n",
    "        print(pos)\n",
    "        result = SDSS.query_region(pos, radius=2* u.arcsec)\n",
    "\n",
    "        #FITS\n",
    "        if result:\n",
    "            for b in query_bands:\n",
    "                try:\n",
    "                    imgs = SDSS.get_images(coordinates=pos, radius=100*u.arcsec, band=b, data_release=17)\n",
    "                    imgs[0].writeto(os.path.join(dest_path, f\"{b}_{i+1:06}.fits\"), overwrite=True)\n",
    "                except:\n",
    "                    print(\"image not found :\", i)\n",
    "                    IMAGE_FAIL += [i]\n",
    "        else:\n",
    "            print(\"query fail :\", i)\n",
    "            QUERY_FAIL += [i]\n",
    "\n",
    "        #JPEG\n",
    "        url = f\"https://skyserver.sdss.org/dr17/SkyServerWS/ImgCutout/getjpeg?ra={ra}&dec={dec}&scale=0.4&width=512&height=512\"\n",
    "        r = requests.get(url)\n",
    "        open(os.path.join(dest_path, f\"{i+1:06}.jpg\"), \"wb\").write(r.content)   \n",
    "    \n",
    "    return QUERY_FAIL, IMAGE_FAIL\n"
   ]
  },
  {
   "cell_type": "code",
   "execution_count": null,
   "id": "66da81c8",
   "metadata": {},
   "outputs": [],
   "source": [
    "spirals = pd.read_csv(\"./reference_csv/lens.csv\")\n",
    "temp = download_data(spirals, sub_folder=\"lens\")"
   ]
  },
  {
   "cell_type": "code",
   "execution_count": null,
   "id": "d4abe344",
   "metadata": {},
   "outputs": [],
   "source": []
  }
 ],
 "metadata": {
  "kernelspec": {
   "display_name": "torch",
   "language": "python",
   "name": "python3"
  },
  "language_info": {
   "codemirror_mode": {
    "name": "ipython",
    "version": 3
   },
   "file_extension": ".py",
   "mimetype": "text/x-python",
   "name": "python",
   "nbconvert_exporter": "python",
   "pygments_lexer": "ipython3",
   "version": "3.8.18"
  }
 },
 "nbformat": 4,
 "nbformat_minor": 5
}
